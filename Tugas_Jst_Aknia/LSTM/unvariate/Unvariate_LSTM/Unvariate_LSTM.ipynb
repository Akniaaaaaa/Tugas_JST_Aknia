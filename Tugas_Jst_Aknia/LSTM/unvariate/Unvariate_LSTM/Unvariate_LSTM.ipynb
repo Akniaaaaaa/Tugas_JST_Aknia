{
  "nbformat": 4,
  "nbformat_minor": 0,
  "metadata": {
    "colab": {
      "name": "Unvariate_LSTM.ipynb",
      "provenance": []
    },
    "kernelspec": {
      "name": "python3",
      "display_name": "Python 3"
    },
    "language_info": {
      "name": "python"
    }
  },
  "cells": [
    {
      "cell_type": "code",
      "metadata": {
        "colab": {
          "base_uri": "https://localhost:8080/"
        },
        "id": "LkzkzkqUs2my",
        "outputId": "3d5da72e-039b-4c5b-d082-a043d8482ef1"
      },
      "source": [
        "from google.colab import drive\n",
        "drive.mount(\"/content/drive\")"
      ],
      "execution_count": 2,
      "outputs": [
        {
          "output_type": "stream",
          "text": [
            "Mounted at /content/drive\n"
          ],
          "name": "stdout"
        }
      ]
    },
    {
      "cell_type": "code",
      "metadata": {
        "id": "Tq-R9LqQyCdb"
      },
      "source": [
        "#Import Libraries\n",
        "import numpy as np\n",
        "import matplotlib.pyplot as plt\n",
        "import pandas as pd\n",
        "import math\n",
        "from sklearn.preprocessing import MinMaxScaler\n",
        "from sklearn.metrics import mean_squared_error\n",
        "from keras.models import Sequential\n",
        "from keras.layers import Dense\n",
        "from keras.layers import LSTM"
      ],
      "execution_count": 3,
      "outputs": []
    },
    {
      "cell_type": "code",
      "metadata": {
        "colab": {
          "base_uri": "https://localhost:8080/",
          "height": 419
        },
        "id": "t5NP0X8rtnze",
        "outputId": "84a7d51e-b7f0-412c-e9f3-1176810e00ed"
      },
      "source": [
        "#See the data\n",
        "dataframe = pd.read_csv('/content/drive/MyDrive/train_csv.csv', usecols=[2], engine='python')\n",
        "dataset = dataframe.values\n",
        "dataframe"
      ],
      "execution_count": 4,
      "outputs": [
        {
          "output_type": "execute_result",
          "data": {
            "text/html": [
              "<div>\n",
              "<style scoped>\n",
              "    .dataframe tbody tr th:only-of-type {\n",
              "        vertical-align: middle;\n",
              "    }\n",
              "\n",
              "    .dataframe tbody tr th {\n",
              "        vertical-align: top;\n",
              "    }\n",
              "\n",
              "    .dataframe thead th {\n",
              "        text-align: right;\n",
              "    }\n",
              "</style>\n",
              "<table border=\"1\" class=\"dataframe\">\n",
              "  <thead>\n",
              "    <tr style=\"text-align: right;\">\n",
              "      <th></th>\n",
              "      <th>feature</th>\n",
              "    </tr>\n",
              "  </thead>\n",
              "  <tbody>\n",
              "    <tr>\n",
              "      <th>0</th>\n",
              "      <td>237.97</td>\n",
              "    </tr>\n",
              "    <tr>\n",
              "      <th>1</th>\n",
              "      <td>57.93</td>\n",
              "    </tr>\n",
              "    <tr>\n",
              "      <th>2</th>\n",
              "      <td>90.53</td>\n",
              "    </tr>\n",
              "    <tr>\n",
              "      <th>3</th>\n",
              "      <td>260.75</td>\n",
              "    </tr>\n",
              "    <tr>\n",
              "      <th>4</th>\n",
              "      <td>49.70</td>\n",
              "    </tr>\n",
              "    <tr>\n",
              "      <th>...</th>\n",
              "      <td>...</td>\n",
              "    </tr>\n",
              "    <tr>\n",
              "      <th>75</th>\n",
              "      <td>469.72</td>\n",
              "    </tr>\n",
              "    <tr>\n",
              "      <th>76</th>\n",
              "      <td>406.79</td>\n",
              "    </tr>\n",
              "    <tr>\n",
              "      <th>77</th>\n",
              "      <td>128.91</td>\n",
              "    </tr>\n",
              "    <tr>\n",
              "      <th>78</th>\n",
              "      <td>85.28</td>\n",
              "    </tr>\n",
              "    <tr>\n",
              "      <th>79</th>\n",
              "      <td>121.12</td>\n",
              "    </tr>\n",
              "  </tbody>\n",
              "</table>\n",
              "<p>80 rows × 1 columns</p>\n",
              "</div>"
            ],
            "text/plain": [
              "    feature\n",
              "0    237.97\n",
              "1     57.93\n",
              "2     90.53\n",
              "3    260.75\n",
              "4     49.70\n",
              "..      ...\n",
              "75   469.72\n",
              "76   406.79\n",
              "77   128.91\n",
              "78    85.28\n",
              "79   121.12\n",
              "\n",
              "[80 rows x 1 columns]"
            ]
          },
          "metadata": {
            "tags": []
          },
          "execution_count": 4
        }
      ]
    },
    {
      "cell_type": "code",
      "metadata": {
        "colab": {
          "base_uri": "https://localhost:8080/"
        },
        "id": "auTHQmm9C0LA",
        "outputId": "4f9ed2e3-b4f3-4dd8-bce9-0acd1e4ba8b4"
      },
      "source": [
        "# MinMax scaling for 0 to 1\n",
        "scaler = MinMaxScaler(feature_range=(0, 1))\n",
        "dataset = scaler.fit_transform(dataset)\n",
        "len(dataset)"
      ],
      "execution_count": 5,
      "outputs": [
        {
          "output_type": "execute_result",
          "data": {
            "text/plain": [
              "80"
            ]
          },
          "metadata": {
            "tags": []
          },
          "execution_count": 5
        }
      ]
    },
    {
      "cell_type": "code",
      "metadata": {
        "colab": {
          "base_uri": "https://localhost:8080/"
        },
        "id": "LFOJjQLXC_EX",
        "outputId": "df5b9278-69c3-4d27-fed6-031a981d46f9"
      },
      "source": [
        "# splitting the 80% training and 20% testing\n",
        "train_size = int(len(dataset) * 0.8)\n",
        "test_size = len(dataset) - train_size\n",
        "train, test = dataset[0:train_size,:], dataset[train_size:len(dataset),:]\n",
        "print(len(train), len(test))"
      ],
      "execution_count": 6,
      "outputs": [
        {
          "output_type": "stream",
          "text": [
            "64 16\n"
          ],
          "name": "stdout"
        }
      ]
    },
    {
      "cell_type": "code",
      "metadata": {
        "id": "lRljwSm5DIpL"
      },
      "source": [
        "\n",
        "# function for pre processing data for RNN.\n",
        "def create_dataset(dataset, no_seq=1):\n",
        "    dataX, dataY = [], []\n",
        "    for i in range(len(dataset)-no_seq-1):\n",
        "        a = dataset[i:(i+no_seq), 0]\n",
        "        dataX.append(a)\n",
        "        dataY.append(dataset[i + no_seq, 0])\n",
        "    return np.array(dataX), np.array(dataY)"
      ],
      "execution_count": 8,
      "outputs": []
    },
    {
      "cell_type": "code",
      "metadata": {
        "colab": {
          "base_uri": "https://localhost:8080/"
        },
        "id": "V5B6_84-DQHt",
        "outputId": "73956a9a-4085-4cd5-c247-af7e0ddefb4d"
      },
      "source": [
        "# with number of sequence=1, splitting of data takes place. \n",
        "no_seq = 1\n",
        "trainX, trainY = create_dataset(train, no_seq)\n",
        "testX, testY = create_dataset(test, no_seq)\n",
        "print(len(trainX),len(trainY))\n",
        "print(len(testX),len(testY))"
      ],
      "execution_count": 9,
      "outputs": [
        {
          "output_type": "stream",
          "text": [
            "62 62\n",
            "14 14\n"
          ],
          "name": "stdout"
        }
      ]
    },
    {
      "cell_type": "code",
      "metadata": {
        "id": "n5ZKIURkDetG"
      },
      "source": [
        "#Reshape dataset\n",
        "trainX = np.reshape(trainX, (trainX.shape[0], 1, trainX.shape[1]))\n",
        "testX = np.reshape(testX, (testX.shape[0], 1, testX.shape[1]))"
      ],
      "execution_count": 10,
      "outputs": []
    },
    {
      "cell_type": "code",
      "metadata": {
        "colab": {
          "base_uri": "https://localhost:8080/"
        },
        "id": "k-YfF5rTDkkC",
        "outputId": "8560bab0-e18e-4128-a73b-5cec57b4fb5e"
      },
      "source": [
        "#Make Model\n",
        "\n",
        "model = Sequential()\n",
        "\n",
        "model.add(LSTM(units=50, return_sequences=True,input_shape=(1, no_seq)))\n",
        "model.add(LSTM(units=50, return_sequences=False))\n",
        "model.add(Dense(units=25))\n",
        "model.add(Dense(units=1))\n",
        "model.save(\"univariate.h5\")"
      ],
      "execution_count": 11,
      "outputs": [
        {
          "output_type": "stream",
          "text": [
            "WARNING:tensorflow:Compiled the loaded model, but the compiled metrics have yet to be built. `model.compile_metrics` will be empty until you train or evaluate the model.\n"
          ],
          "name": "stdout"
        }
      ]
    },
    {
      "cell_type": "code",
      "metadata": {
        "id": "dEp64j13DrAb"
      },
      "source": [
        "#compile\n",
        "model.compile(loss='mean_squared_error', optimizer='adam')"
      ],
      "execution_count": 12,
      "outputs": []
    },
    {
      "cell_type": "code",
      "metadata": {
        "colab": {
          "base_uri": "https://localhost:8080/"
        },
        "id": "qW01i9L7DwTn",
        "outputId": "7fd1944a-ba1e-4f4e-bfab-8bfb6f297581"
      },
      "source": [
        "#Evaluation, replace with 1, if you want to display the epoch\n",
        "model.fit(trainX, trainY, epochs=50, batch_size=32, verbose=1)"
      ],
      "execution_count": 13,
      "outputs": [
        {
          "output_type": "stream",
          "text": [
            "Epoch 1/50\n",
            "2/2 [==============================] - 18s 9ms/step - loss: 0.0991\n",
            "Epoch 2/50\n",
            "2/2 [==============================] - 0s 6ms/step - loss: 0.0934\n",
            "Epoch 3/50\n",
            "2/2 [==============================] - 0s 7ms/step - loss: 0.0845\n",
            "Epoch 4/50\n",
            "2/2 [==============================] - 0s 9ms/step - loss: 0.0733\n",
            "Epoch 5/50\n",
            "2/2 [==============================] - 0s 8ms/step - loss: 0.0641\n",
            "Epoch 6/50\n",
            "2/2 [==============================] - 0s 7ms/step - loss: 0.0543\n",
            "Epoch 7/50\n",
            "2/2 [==============================] - 0s 9ms/step - loss: 0.0497\n",
            "Epoch 8/50\n",
            "2/2 [==============================] - 0s 7ms/step - loss: 0.0497\n",
            "Epoch 9/50\n",
            "2/2 [==============================] - 0s 7ms/step - loss: 0.0425\n",
            "Epoch 10/50\n",
            "2/2 [==============================] - 0s 7ms/step - loss: 0.0406\n",
            "Epoch 11/50\n",
            "2/2 [==============================] - 0s 8ms/step - loss: 0.0353\n",
            "Epoch 12/50\n",
            "2/2 [==============================] - 0s 8ms/step - loss: 0.0342\n",
            "Epoch 13/50\n",
            "2/2 [==============================] - 0s 10ms/step - loss: 0.0376\n",
            "Epoch 14/50\n",
            "2/2 [==============================] - 0s 11ms/step - loss: 0.0358\n",
            "Epoch 15/50\n",
            "2/2 [==============================] - 0s 7ms/step - loss: 0.0368\n",
            "Epoch 16/50\n",
            "2/2 [==============================] - 0s 8ms/step - loss: 0.0387\n",
            "Epoch 17/50\n",
            "2/2 [==============================] - 0s 8ms/step - loss: 0.0381\n",
            "Epoch 18/50\n",
            "2/2 [==============================] - 0s 8ms/step - loss: 0.0354\n",
            "Epoch 19/50\n",
            "2/2 [==============================] - 0s 7ms/step - loss: 0.0377\n",
            "Epoch 20/50\n",
            "2/2 [==============================] - 0s 9ms/step - loss: 0.0344\n",
            "Epoch 21/50\n",
            "2/2 [==============================] - 0s 7ms/step - loss: 0.0361\n",
            "Epoch 22/50\n",
            "2/2 [==============================] - 0s 7ms/step - loss: 0.0382\n",
            "Epoch 23/50\n",
            "2/2 [==============================] - 0s 7ms/step - loss: 0.0367\n",
            "Epoch 24/50\n",
            "2/2 [==============================] - 0s 6ms/step - loss: 0.0376\n",
            "Epoch 25/50\n",
            "2/2 [==============================] - 0s 8ms/step - loss: 0.0347\n",
            "Epoch 26/50\n",
            "2/2 [==============================] - 0s 9ms/step - loss: 0.0380\n",
            "Epoch 27/50\n",
            "2/2 [==============================] - 0s 10ms/step - loss: 0.0332\n",
            "Epoch 28/50\n",
            "2/2 [==============================] - 0s 7ms/step - loss: 0.0334\n",
            "Epoch 29/50\n",
            "2/2 [==============================] - 0s 4ms/step - loss: 0.0348\n",
            "Epoch 30/50\n",
            "2/2 [==============================] - 0s 7ms/step - loss: 0.0342\n",
            "Epoch 31/50\n",
            "2/2 [==============================] - 0s 8ms/step - loss: 0.0346\n",
            "Epoch 32/50\n",
            "2/2 [==============================] - 0s 9ms/step - loss: 0.0343\n",
            "Epoch 33/50\n",
            "2/2 [==============================] - 0s 9ms/step - loss: 0.0348\n",
            "Epoch 34/50\n",
            "2/2 [==============================] - 0s 6ms/step - loss: 0.0366\n",
            "Epoch 35/50\n",
            "2/2 [==============================] - 0s 6ms/step - loss: 0.0379\n",
            "Epoch 36/50\n",
            "2/2 [==============================] - 0s 7ms/step - loss: 0.0325\n",
            "Epoch 37/50\n",
            "2/2 [==============================] - 0s 6ms/step - loss: 0.0372\n",
            "Epoch 38/50\n",
            "2/2 [==============================] - 0s 6ms/step - loss: 0.0344\n",
            "Epoch 39/50\n",
            "2/2 [==============================] - 0s 7ms/step - loss: 0.0378\n",
            "Epoch 40/50\n",
            "2/2 [==============================] - 0s 7ms/step - loss: 0.0345\n",
            "Epoch 41/50\n",
            "2/2 [==============================] - 0s 8ms/step - loss: 0.0341\n",
            "Epoch 42/50\n",
            "2/2 [==============================] - 0s 10ms/step - loss: 0.0362\n",
            "Epoch 43/50\n",
            "2/2 [==============================] - 0s 8ms/step - loss: 0.0359\n",
            "Epoch 44/50\n",
            "2/2 [==============================] - 0s 5ms/step - loss: 0.0344\n",
            "Epoch 45/50\n",
            "2/2 [==============================] - 0s 6ms/step - loss: 0.0361\n",
            "Epoch 46/50\n",
            "2/2 [==============================] - 0s 6ms/step - loss: 0.0355\n",
            "Epoch 47/50\n",
            "2/2 [==============================] - 0s 10ms/step - loss: 0.0331\n",
            "Epoch 48/50\n",
            "2/2 [==============================] - 0s 7ms/step - loss: 0.0353\n",
            "Epoch 49/50\n",
            "2/2 [==============================] - 0s 11ms/step - loss: 0.0332\n",
            "Epoch 50/50\n",
            "2/2 [==============================] - 0s 14ms/step - loss: 0.0364\n"
          ],
          "name": "stdout"
        },
        {
          "output_type": "execute_result",
          "data": {
            "text/plain": [
              "<keras.callbacks.History at 0x7f24bec60e90>"
            ]
          },
          "metadata": {
            "tags": []
          },
          "execution_count": 13
        }
      ]
    },
    {
      "cell_type": "code",
      "metadata": {
        "colab": {
          "base_uri": "https://localhost:8080/",
          "height": 281
        },
        "id": "Vqqwg_TSD7B0",
        "outputId": "6da60895-260c-4658-c47a-f5113e3ae3d1"
      },
      "source": [
        "#show the graph of loss function\n",
        "plt.title('Loss')\n",
        "plt.plot(model.history.history['loss'], label='loss value')\n",
        "plt.legend()\n",
        "plt.show()\n"
      ],
      "execution_count": 14,
      "outputs": [
        {
          "output_type": "display_data",
          "data": {
            "image/png": "[encoded data removed]",
            "text/plain": [
              "<Figure size 432x288 with 1 Axes>"
            ]
          },
          "metadata": {
            "tags": [],
            "needs_background": "light"
          }
        }
      ]
    },
    {
      "cell_type": "code",
      "metadata": {
        "colab": {
          "base_uri": "https://localhost:8080/",
          "height": 299
        },
        "id": "j-2S66goD9ea",
        "outputId": "74040f6d-9408-4e65-82b6-f55b0c50215d"
      },
      "source": [
        "#Prediction use RSME\n",
        "trainPredict = model.predict(trainX)\n",
        "testPredict = model.predict(testX)\n",
        "\n",
        "trainPredict = scaler.inverse_transform(trainPredict)\n",
        "trainY = scaler.inverse_transform([trainY])\n",
        "testPredict = scaler.inverse_transform(testPredict)\n",
        "testY = scaler.inverse_transform([testY])\n",
        "\n",
        "trainScore = math.sqrt(mean_squared_error(trainY[0], trainPredict[:,0]))\n",
        "print('Train Score: %.2f RMSE' % (trainScore))\n",
        "testScore = math.sqrt(mean_squared_error(testY[0], testPredict[:,0]))\n",
        "print('Test Score: %.2f RMSE' % (testScore))\n",
        "\n",
        "trainPredictPlot = np.empty_like(dataset)\n",
        "trainPredictPlot[:, :] = np.nan\n",
        "trainPredictPlot[no_seq:len(trainPredict)+no_seq, :] = trainPredict\n",
        "testPredictPlot = np.empty_like(dataset)\n",
        "testPredictPlot[:, :] = np.nan\n",
        "testPredictPlot[len(trainPredict)+(no_seq*2)+1:len(dataset)-1, :] = testPredict\n",
        "plt.plot(scaler.inverse_transform(dataset))\n",
        "plt.plot(trainPredictPlot)\n",
        "plt.plot(testPredictPlot)\n",
        "plt.show()"
      ],
      "execution_count": 15,
      "outputs": [
        {
          "output_type": "stream",
          "text": [
            "Train Score: 83.69 RMSE\n",
            "Test Score: 124.55 RMSE\n"
          ],
          "name": "stdout"
        },
        {
          "output_type": "display_data",
          "data": {
            "image/png": "[encoded data removed]",
            "text/plain": [
              "<Figure size 432x288 with 1 Axes>"
            ]
          },
          "metadata": {
            "tags": [],
            "needs_background": "light"
          }
        }
      ]
    },
    {
      "cell_type": "code",
      "metadata": {
        "colab": {
          "base_uri": "https://localhost:8080/"
        },
        "id": "D3UkCMefEGF4",
        "outputId": "a7739f09-a47f-4a2c-b00f-d9dbc8dc7e60"
      },
      "source": [
        "#Predict Future\n",
        "inference_data = pd.read_csv('/content/drive/MyDrive/test_csv.csv')\n",
        "\n",
        "No_test_data = len(inference_data)\n",
        "\n",
        "# Number of features to be found.\n",
        "print(No_test_data)"
      ],
      "execution_count": 16,
      "outputs": [
        {
          "output_type": "stream",
          "text": [
            "40\n"
          ],
          "name": "stdout"
        }
      ]
    },
    {
      "cell_type": "code",
      "metadata": {
        "colab": {
          "base_uri": "https://localhost:8080/"
        },
        "id": "2T7qap3rENJA",
        "outputId": "f9a309ee-bc5b-472f-a357-cea0aaf4b8de"
      },
      "source": [
        "# Prediction taking the last dataset of train and predicting the rest 39 features.\n",
        "\n",
        "for i in range(79, 79+No_test_data):\n",
        "    \n",
        "    # last day of the training dataset.\n",
        "    if i == 79:\n",
        "        last_day = dataframe[i:i+1].values\n",
        "        last_day = scaler.transform(last_day)\n",
        "        X_test = []\n",
        "        X_test.append(last_day)\n",
        "        X_test = np.array(X_test)\n",
        "        X_test = np.reshape(X_test, (X_test.shape[0], X_test.shape[1], 1))\n",
        "        pred_price = model.predict(X_test)\n",
        "        pred_price = scaler.inverse_transform(pred_price)\n",
        "        print(pred_price)\n",
        "        \n",
        "    # rest 39 features.   \n",
        "    else:\n",
        "        last_day = pred_value\n",
        "        last_day = scaler.transform(last_day)\n",
        "        X_test = []\n",
        "        X_test.append(last_day)\n",
        "        X_test = np.array(X_test)\n",
        "        X_test = np.reshape(X_test, (X_test.shape[0], X_test.shape[1], 1))\n",
        "        pred_price = model.predict(X_test)\n",
        "        pred_price = scaler.inverse_transform(pred_price)\n",
        "        print(pred_price)\n",
        "        \n",
        "    # replacing the old prediction value with new for next feature prediction.\n",
        "    pred_value = pred_price"
      ],
      "execution_count": 17,
      "outputs": [
        {
          "output_type": "stream",
          "text": [
            "[[130.42258]]\n",
            "[[132.29681]]\n",
            "[[132.67471]]\n",
            "[[132.75092]]\n",
            "[[132.76627]]\n",
            "[[132.7694]]\n",
            "[[132.77]]\n",
            "[[132.77014]]\n",
            "[[132.77016]]\n",
            "[[132.77017]]\n",
            "[[132.77017]]\n",
            "[[132.77017]]\n",
            "[[132.77017]]\n",
            "[[132.77017]]\n",
            "[[132.77017]]\n",
            "[[132.77017]]\n",
            "[[132.77017]]\n",
            "[[132.77017]]\n",
            "[[132.77017]]\n",
            "[[132.77017]]\n",
            "[[132.77017]]\n",
            "[[132.77017]]\n",
            "[[132.77017]]\n",
            "[[132.77017]]\n",
            "[[132.77017]]\n",
            "[[132.77017]]\n",
            "[[132.77017]]\n",
            "[[132.77017]]\n",
            "[[132.77017]]\n",
            "[[132.77017]]\n",
            "[[132.77017]]\n",
            "[[132.77017]]\n",
            "[[132.77017]]\n",
            "[[132.77017]]\n",
            "[[132.77017]]\n",
            "[[132.77017]]\n",
            "[[132.77017]]\n",
            "[[132.77017]]\n",
            "[[132.77017]]\n",
            "[[132.77017]]\n"
          ],
          "name": "stdout"
        }
      ]
    }
  ]
}